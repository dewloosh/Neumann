{
  "cells": [
    {
      "cell_type": "code",
      "execution_count": null,
      "metadata": {
        "collapsed": false
      },
      "outputs": [],
      "source": [
        "%matplotlib inline"
      ]
    },
    {
      "cell_type": "markdown",
      "metadata": {},
      "source": [
        "\n# Lagrange Polynomials in 1d\n\nGeneration of Lagrange polynomials for approximation on a grid.\n"
      ]
    },
    {
      "cell_type": "code",
      "execution_count": null,
      "metadata": {
        "collapsed": false
      },
      "outputs": [],
      "source": [
        "import matplotlib.pyplot as plt\nfrom matplotlib import gridspec\nimport numpy as np\nimport sympy as sy\n\nfrom neumann.function import Function\nfrom neumann.approx.lagrange import gen_Lagrange_1d\n\ninds = [1, 2, 3]\ndata = gen_Lagrange_1d(i=inds)\n\nfig = plt.figure(figsize=(4, 7))  # in inches\nfig.patch.set_facecolor('white')\ngs = gridspec.GridSpec(len(inds), 1)\n\nxdata = np.linspace(-1, 1, 100)\n\nfor i, ind in enumerate(inds):\n    ax = fig.add_subplot(gs[i])\n    label = '$' + data[ind]['symbol'] + '$'\n    ax.set_title(label)\n    fnc = Function(data[ind][0])\n    fdata = fnc([xdata])\n    ax.plot(xdata, fdata)\n    ax.hlines(y=0, xmin=-1, xmax=1, colors='k', zorder=-10, lw=1.0)\n\nfig.tight_layout()"
      ]
    }
  ],
  "metadata": {
    "kernelspec": {
      "display_name": "Python 3",
      "language": "python",
      "name": "python3"
    },
    "language_info": {
      "codemirror_mode": {
        "name": "ipython",
        "version": 3
      },
      "file_extension": ".py",
      "mimetype": "text/x-python",
      "name": "python",
      "nbconvert_exporter": "python",
      "pygments_lexer": "ipython3",
      "version": "3.8.10"
    }
  },
  "nbformat": 4,
  "nbformat_minor": 0
}