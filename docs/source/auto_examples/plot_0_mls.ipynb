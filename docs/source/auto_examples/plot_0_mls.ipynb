{
  "cells": [
    {
      "cell_type": "code",
      "execution_count": null,
      "metadata": {
        "collapsed": false
      },
      "outputs": [],
      "source": [
        "%matplotlib inline"
      ]
    },
    {
      "cell_type": "markdown",
      "metadata": {},
      "source": [
        "\n# Moving Least Squares Method\n\nApproximation over precalculated data using the MLS method.\n"
      ]
    },
    {
      "cell_type": "code",
      "execution_count": null,
      "metadata": {
        "collapsed": false
      },
      "outputs": [],
      "source": [
        "import numpy as np\n\nfrom neumann.approx.mls import moving_least_squares\nfrom neumann.approx.func import CubicWeightFunction\n\ndata = np.loadtxt('testdata.out')\n\nprint(data.shape)\n\nw = CubicWeightFunction([0., 0.], [0.5, 0.5])\napprox = moving_least_squares(data[:, 0:2], data[:, 2:], deg=2, order=1, w=w)\n\nn = 20  # number of sampling points per coordinate\nX = np.linspace(0, 1, n)\nY = np.linspace(0, 1, n)\nX, Y = np.meshgrid(X, Y)\nZ = np.zeros([4, n, n])\nfor i in range(n):\n    for j in range(n):\n        f, *_ = approx([X[i, j], Y[i, j]])\n        Z[:, i, j] = f"
      ]
    },
    {
      "cell_type": "code",
      "execution_count": null,
      "metadata": {
        "collapsed": false
      },
      "outputs": [],
      "source": [
        "from matplotlib import pyplot as plt\nfrom matplotlib import cm\n\nfig = plt.figure()\nax1 = fig.add_subplot(221, projection='3d')\nax2 = fig.add_subplot(222, projection='3d')\nax3 = fig.add_subplot(223, projection='3d')\nax4 = fig.add_subplot(224, projection='3d')\n\nax1.plot_surface(X, Y, Z[0, ::], cmap=cm.coolwarm,\n                 linewidth=0, antialiased=False)\nax2.plot_surface(X, Y, Z[1, ::], cmap=cm.coolwarm,\n                 linewidth=0, antialiased=False)\nax3.plot_surface(X, Y, Z[2, ::], cmap=cm.coolwarm,\n                 linewidth=0, antialiased=False)\nax4.plot_surface(X, Y, Z[3, ::], cmap=cm.coolwarm,\n                 linewidth=0, antialiased=False)\n\nax1.set_xlabel('a')\nax1.set_ylabel('b')\nax1.set_zlabel('$A_{11}$')\nax2.set_xlabel('a')\nax2.set_ylabel('b')\nax2.set_zlabel('$A_{22}$')\nax3.set_xlabel('a')\nax3.set_ylabel('b')\nax3.set_zlabel('$A_{12}$')\nax4.set_xlabel('a')\nax4.set_ylabel('b')\nax4.set_zlabel('$A_{66}$')\nplt.show()"
      ]
    }
  ],
  "metadata": {
    "kernelspec": {
      "display_name": "Python 3",
      "language": "python",
      "name": "python3"
    },
    "language_info": {
      "codemirror_mode": {
        "name": "ipython",
        "version": 3
      },
      "file_extension": ".py",
      "mimetype": "text/x-python",
      "name": "python",
      "nbconvert_exporter": "python",
      "pygments_lexer": "ipython3",
      "version": "3.8.10"
    }
  },
  "nbformat": 4,
  "nbformat_minor": 0
}